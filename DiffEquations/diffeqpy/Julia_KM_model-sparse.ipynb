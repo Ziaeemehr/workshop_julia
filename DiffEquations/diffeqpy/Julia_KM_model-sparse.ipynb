{
 "cells": [
  {
   "cell_type": "code",
   "execution_count": 3,
   "metadata": {},
   "outputs": [],
   "source": [
    "using DifferentialEquations\n",
    "using PyCall\n",
    "import Random\n",
    "using PyPlot\n",
    "using Statistics\n",
    "using BenchmarkTools\n",
    "using Base.Threads\n",
    "using SparseArrays\n",
    "using StaticArrays"
   ]
  },
  {
   "cell_type": "code",
   "execution_count": 22,
   "metadata": {},
   "outputs": [
    {
     "data": {
      "text/plain": [
       "adjmat_to_adjlist (generic function with 2 methods)"
      ]
     },
     "execution_count": 22,
     "metadata": {},
     "output_type": "execute_result"
    }
   ],
   "source": [
    "function KM_model!(du, u, p, t)\n",
    "\n",
    "    @threads for i = 1:p[2]\n",
    "        du[i] = p[3][i] + p[1] * sum(p[4][:, i] .* sin.(u .- u[i]))\n",
    "    end\n",
    "\n",
    "    return du\n",
    "end\n",
    "\n",
    "# sp = [K[1]/N, N, omega_0, s_adj, rows, values]\n",
    "\n",
    "function sparse_KM_model1!(du, u, p, t)\n",
    "    rows = p[5]\n",
    "    @threads for j = 1:p[2]\n",
    "        sumi = 0.0\n",
    "        for i in nzrange(p[4], j)\n",
    "            sumi +=  sin(u[rows[i]] - u[j])  #  p[6][p[5][i]] *\n",
    "        end\n",
    "        du[j] = p[3][j] + p[1] * sumi\n",
    "    end\n",
    "\n",
    "    return du\n",
    "end;\n",
    "\n",
    "\n",
    "function sparse_KM_model2!(du, u, p, t)\n",
    "    rows = p[5]\n",
    "    @threads for j = 1:p[2]\n",
    "        sumi = sum(sin.(u[rows[nzrange(p[4], j)]] .- u[j]))\n",
    "        du[j] = p[3][j] + p[1] * sumi\n",
    "    end\n",
    "\n",
    "    return du\n",
    "end;\n",
    "\n",
    "# list_p = [K[1]/N, N, omega_0, adjlist]\n",
    "\n",
    "function adjlist_KM_model!(du, u, p, t)\n",
    "    a = p[4]\n",
    "    @threads for i = 1:p[2]\n",
    "        du[i] = p[3][i] + p[1] * sum(sin.(u[a[i]] .- u[i]))\n",
    "    end\n",
    "    du\n",
    "end\n",
    "\n",
    "\n",
    "function order(theta)\n",
    "    \n",
    "    n = length(theta)\n",
    "    \n",
    "    real_R = 0.0\n",
    "    imag_R = 0.0\n",
    "    \n",
    "    for i = 1:n\n",
    "        real_R += cos(theta[i])\n",
    "        imag_R += sin(theta[i])\n",
    "    end\n",
    "    \n",
    "    real_R /= n\n",
    "    imag_R /= n\n",
    "    r = sqrt(real_R * real_R + imag_R * imag_R)\n",
    "    \n",
    "    return r\n",
    "end\n",
    "\n",
    "\n",
    "function adjmat_to_adjlist(A, threshold=1e-8)\n",
    "    \n",
    "    row, col = size(A)\n",
    "    adjlist = Array{Int64}[]\n",
    "    \n",
    "    for i = 1:row\n",
    "        tmp = []\n",
    "        for j = 1:col\n",
    "            if (abs(A[i, j]) > threshold)\n",
    "                push!(tmp, j)\n",
    "            end\n",
    "        end\n",
    "        push!(adjlist, tmp)\n",
    "    end\n",
    "    return adjlist\n",
    "end"
   ]
  },
  {
   "cell_type": "code",
   "execution_count": 23,
   "metadata": {},
   "outputs": [],
   "source": [
    "Random.seed!(1234)\n",
    "\n",
    "K = 0.7                      \n",
    "N = 100                \n",
    "dt = 0.05                  \n",
    "T = 200.0                   \n",
    "T_trans = 0.0                \n",
    "mu = 2.0                     \n",
    "sigma = 0.1 \n",
    "p = 0.01\n",
    "R = zeros(length(K))\n",
    "\n",
    "nx = pyimport(\"networkx\")\n",
    "np = pyimport(\"numpy\")\n",
    "\n",
    "G = nx.gnp_random_graph(N, p, seed=1)\n",
    "adj = nx.to_numpy_array(G, dtype=np.int)\n",
    "adjlist = adjmat_to_adjlist(adj)\n",
    "s_adj = sparse(adj)\n",
    "rows = rowvals(s_adj)\n",
    "# values = nonzeros(s_adj)\n",
    "\n",
    "ind_transition = Int64(T_trans/dt)\n",
    "theta_0 = rand(N) .* 2.0 .* pi .- pi\n",
    "omega_0 = randn(N) .* sigma .+ mu \n",
    "tspan = (0.0, T)\n",
    "\n",
    "p = [K[1]/N, N, omega_0, adj]\n",
    "sp = [K[1]/N, N, omega_0, s_adj, rows]\n",
    "list_p = [K[1]/N, N, omega_0, adjlist]\n",
    "\n",
    "prob = ODEProblem(KM_model!, theta_0, tspan, p);\n",
    "s_prob1 = ODEProblem(sparse_KM_model1!, theta_0, tspan, sp);\n",
    "s_prob2 = ODEProblem(sparse_KM_model2!, theta_0, tspan, sp);\n",
    "list_prob = ODEProblem(adjlist_KM_model!, theta_0, tspan, list_p);"
   ]
  },
  {
   "cell_type": "code",
   "execution_count": 24,
   "metadata": {},
   "outputs": [
    {
     "name": "stdout",
     "output_type": "stream",
     "text": [
      "0.08980138313239366\n",
      "0.0898013831323934\n",
      "0.0898013831323934\n",
      "0.0898013831323934\n"
     ]
    }
   ],
   "source": [
    "function solving(prob, message)\n",
    "    sol = solve(prob, Tsit5(), saveat=dt, abstol=1e-6, reltol=1e-6);\n",
    "    nstep = length(sol.t)\n",
    "    r = zeros(nstep)\n",
    "    for j =1:nstep\n",
    "        r[j] = order(sol.u[j])\n",
    "    end\n",
    "    println(mean(r))    \n",
    "end\n",
    "\n",
    "solving(prob, \"non sparse\")\n",
    "solving(s_prob1, \"sparse1\")\n",
    "solving(s_prob2, \"sparse2\")\n",
    "solving(list_prob, \"adjlist\")"
   ]
  },
  {
   "cell_type": "code",
   "execution_count": 25,
   "metadata": {},
   "outputs": [
    {
     "name": "stdout",
     "output_type": "stream",
     "text": [
      "  52.413 ms (279234 allocations: 41.06 MiB)\n",
      "  6.926 ms (240894 allocations: 4.80 MiB)\n",
      "  17.564 ms (300534 allocations: 10.38 MiB)\n",
      "  16.203 ms (257934 allocations: 7.83 MiB)\n"
     ]
    }
   ],
   "source": [
    "@btime solve(prob, Tsit5(), abstol=1e-6,reltol=1e-6);\n",
    "@btime solve(s_prob1, Tsit5(), abstol=1e-6,reltol=1e-6);\n",
    "@btime solve(s_prob2, Tsit5(), abstol=1e-6,reltol=1e-6);\n",
    "@btime solve(list_prob, Tsit5(), abstol=1e-6,reltol=1e-6);"
   ]
  },
  {
   "cell_type": "code",
   "execution_count": 28,
   "metadata": {},
   "outputs": [
    {
     "name": "stdout",
     "output_type": "stream",
     "text": [
      "  53.498 ms (280902 allocations: 42.77 MiB)\n",
      "  7.169 ms (242562 allocations: 6.50 MiB)\n",
      "  18.113 ms (302202 allocations: 12.09 MiB)\n",
      "  16.713 ms (259602 allocations: 9.53 MiB)\n"
     ]
    }
   ],
   "source": [
    "saveat = collect(0:0.1:T)\n",
    "@btime solve(prob, Tsit5(), saveat=saveat, abstol=1e-6,reltol=1e-6);\n",
    "@btime solve(s_prob1, Tsit5(), saveat=saveat, abstol=1e-6,reltol=1e-6);\n",
    "@btime solve(s_prob2, Tsit5(), saveat=saveat, abstol=1e-6,reltol=1e-6);\n",
    "@btime solve(list_prob, Tsit5(), saveat=saveat, abstol=1e-6,reltol=1e-6);"
   ]
  },
  {
   "cell_type": "code",
   "execution_count": 8,
   "metadata": {},
   "outputs": [],
   "source": [
    "# p = 0.1 connectivity ====================\n",
    "\n",
    "# serial\n",
    "# 62.843 ms (345729 allocations: 53.59 MiB)\n",
    "# 76.345 ms (3453465 allocations: 64.35 MiB)\n",
    "# 44.622 ms (650811 allocations: 34.78 MiB)\n",
    "\n",
    "# 4 threads\n",
    "# 21.854 ms (349698 allocations: 54.13 MiB)\n",
    "# 27.806 ms (3460759 allocations: 65.31 MiB)\n",
    "# 18.513 ms (657717 allocations: 35.73 MiB)\n",
    "\n",
    "# p = 0.01 connectivity====================\n",
    "# 4 threads\n",
    "# 17.801 ms (286109 allocations: 44.83 MiB)\n",
    "# 7.224 ms (395329 allocations: 11.57 MiB)\n",
    "# 11.786 ms (491097 allocations: 20.54 MiB)\n"
   ]
  },
  {
   "cell_type": "code",
   "execution_count": 5,
   "metadata": {},
   "outputs": [
    {
     "data": {
      "text/plain": [
       "4"
      ]
     },
     "execution_count": 5,
     "metadata": {},
     "output_type": "execute_result"
    }
   ],
   "source": [
    "nthreads()"
   ]
  },
  {
   "cell_type": "code",
   "execution_count": 177,
   "metadata": {},
   "outputs": [],
   "source": []
  },
  {
   "cell_type": "code",
   "execution_count": null,
   "metadata": {},
   "outputs": [],
   "source": []
  },
  {
   "cell_type": "code",
   "execution_count": 107,
   "metadata": {},
   "outputs": [],
   "source": []
  },
  {
   "cell_type": "code",
   "execution_count": 110,
   "metadata": {},
   "outputs": [],
   "source": []
  },
  {
   "cell_type": "code",
   "execution_count": 109,
   "metadata": {},
   "outputs": [],
   "source": []
  },
  {
   "cell_type": "code",
   "execution_count": 103,
   "metadata": {},
   "outputs": [],
   "source": []
  },
  {
   "cell_type": "code",
   "execution_count": 172,
   "metadata": {},
   "outputs": [],
   "source": [
    "function KM_model!(du, u, p, t)\n",
    "\n",
    "    n = length(u)\n",
    "    for i = 1:n\n",
    "        sumj = 0.0\n",
    "        for j = 1:n\n",
    "            sumj += p[3][j, i] * sin(u[j] - u[i])\n",
    "        end\n",
    "        du[i] = p[2][i] + p[1] * sumj\n",
    "    end\n",
    "\n",
    "    return du\n",
    "end;"
   ]
  },
  {
   "cell_type": "code",
   "execution_count": 7,
   "metadata": {},
   "outputs": [],
   "source": [
    "using Base.Threads"
   ]
  },
  {
   "cell_type": "code",
   "execution_count": null,
   "metadata": {},
   "outputs": [],
   "source": []
  },
  {
   "cell_type": "code",
   "execution_count": null,
   "metadata": {},
   "outputs": [],
   "source": []
  },
  {
   "cell_type": "code",
   "execution_count": null,
   "metadata": {},
   "outputs": [],
   "source": []
  }
 ],
 "metadata": {
  "kernelspec": {
   "display_name": "Julia 1.4.1",
   "language": "julia",
   "name": "julia-1.4"
  },
  "language_info": {
   "file_extension": ".jl",
   "mimetype": "application/julia",
   "name": "julia",
   "version": "1.4.1"
  }
 },
 "nbformat": 4,
 "nbformat_minor": 4
}
