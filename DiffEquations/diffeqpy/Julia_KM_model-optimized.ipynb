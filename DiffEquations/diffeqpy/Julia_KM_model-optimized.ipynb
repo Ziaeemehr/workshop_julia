{
 "cells": [
  {
   "cell_type": "code",
   "execution_count": 86,
   "metadata": {},
   "outputs": [],
   "source": [
    "using DifferentialEquations\n",
    "using PyCall\n",
    "import Random\n",
    "using PyPlot\n",
    "using Statistics\n",
    "using BenchmarkTools"
   ]
  },
  {
   "cell_type": "code",
   "execution_count": 173,
   "metadata": {},
   "outputs": [
    {
     "data": {
      "text/plain": [
       "order (generic function with 1 method)"
      ]
     },
     "execution_count": 173,
     "metadata": {},
     "output_type": "execute_result"
    }
   ],
   "source": [
    "function KM_model!(du, u, p, t)\n",
    "\n",
    "    n = length(u)\n",
    "    for i = 1:n\n",
    "        du[i] = p[2][i] + p[1] * sum(p[3][:, i] .* sin.(u .- u[i]))\n",
    "    end\n",
    "\n",
    "    return du\n",
    "end\n",
    "\n",
    "\n",
    "function order(theta)\n",
    "    \n",
    "    n = length(theta)\n",
    "    \n",
    "    real_R = 0.0\n",
    "    imag_R = 0.0\n",
    "    \n",
    "    for i = 1:n\n",
    "        real_R += cos(theta[i])\n",
    "        imag_R += sin(theta[i])\n",
    "    end\n",
    "    \n",
    "    real_R /= n\n",
    "    imag_R /= n\n",
    "    r = sqrt(real_R * real_R + imag_R * imag_R)\n",
    "    \n",
    "    return r\n",
    "end"
   ]
  },
  {
   "cell_type": "code",
   "execution_count": 174,
   "metadata": {},
   "outputs": [],
   "source": [
    "Random.seed!(1234)\n",
    "\n",
    "K = 0.7                      \n",
    "N = 100                   \n",
    "dt = 0.01                    \n",
    "T = 200.0                   \n",
    "T_trans = 0.0                \n",
    "mu = 2.0                     \n",
    "sigma = 0.1 \n",
    "p = 1.0\n",
    "R = zeros(length(K))\n",
    "\n",
    "nx = pyimport(\"networkx\")\n",
    "np = pyimport(\"numpy\")\n",
    "\n",
    "G = nx.gnp_random_graph(N, p, seed=1)\n",
    "adj = nx.to_numpy_array(G, dtype=np.int)\n",
    "\n",
    "ind_transition = Int64(T_trans/dt)\n",
    "theta_0 = rand(N) .* 2.0 .* pi .- pi\n",
    "omega_0 = randn(N) .* sigma .+ mu \n",
    "tspan = (0.0, T)\n",
    "p = [K[1]/N, omega_0, adj]\n",
    "\n",
    "prob = ODEProblem(KM_model!, theta_0, tspan, p);"
   ]
  },
  {
   "cell_type": "code",
   "execution_count": 175,
   "metadata": {},
   "outputs": [
    {
     "name": "stdout",
     "output_type": "stream",
     "text": [
      "0.9445036095996592\n"
     ]
    }
   ],
   "source": [
    "sol = solve(prob, saveat=0.01);\n",
    "nstep = length(sol.t)\n",
    "r = zeros(nstep)\n",
    "for j =1:nstep\n",
    "    r[j] = order(sol.u[j])\n",
    "end\n",
    "println(mean(r))"
   ]
  },
  {
   "cell_type": "code",
   "execution_count": 176,
   "metadata": {},
   "outputs": [
    {
     "name": "stdout",
     "output_type": "stream",
     "text": [
      "  126.602 ms (780582 allocations: 129.65 MiB)\n"
     ]
    }
   ],
   "source": [
    "@btime solve(prob, Tsit5(), saveat=0.01, abstol=1e-8,reltol=1e-8);"
   ]
  },
  {
   "cell_type": "code",
   "execution_count": null,
   "metadata": {},
   "outputs": [],
   "source": [
    "0.9445036095996592, 126.602 ms (780582 allocations: 129.65 MiB)\n"
   ]
  },
  {
   "cell_type": "code",
   "execution_count": 177,
   "metadata": {},
   "outputs": [],
   "source": []
  },
  {
   "cell_type": "code",
   "execution_count": null,
   "metadata": {},
   "outputs": [],
   "source": []
  },
  {
   "cell_type": "code",
   "execution_count": 107,
   "metadata": {},
   "outputs": [],
   "source": []
  },
  {
   "cell_type": "code",
   "execution_count": 110,
   "metadata": {},
   "outputs": [],
   "source": []
  },
  {
   "cell_type": "code",
   "execution_count": 109,
   "metadata": {},
   "outputs": [],
   "source": []
  },
  {
   "cell_type": "code",
   "execution_count": 103,
   "metadata": {},
   "outputs": [],
   "source": []
  },
  {
   "cell_type": "code",
   "execution_count": 172,
   "metadata": {},
   "outputs": [],
   "source": [
    "function KM_model!(du, u, p, t)\n",
    "\n",
    "    n = length(u)\n",
    "    for i = 1:n\n",
    "        sumj = 0.0\n",
    "        for j = 1:n\n",
    "            sumj += p[3][j, i] * sin(u[j] - u[i])\n",
    "        end\n",
    "        du[i] = p[2][i] + p[1] * sumj\n",
    "    end\n",
    "\n",
    "    return du\n",
    "end;"
   ]
  },
  {
   "cell_type": "code",
   "execution_count": null,
   "metadata": {},
   "outputs": [],
   "source": []
  },
  {
   "cell_type": "code",
   "execution_count": null,
   "metadata": {},
   "outputs": [],
   "source": []
  }
 ],
 "metadata": {
  "kernelspec": {
   "display_name": "Julia 1.4.1",
   "language": "julia",
   "name": "julia-1.4"
  },
  "language_info": {
   "file_extension": ".jl",
   "mimetype": "application/julia",
   "name": "julia",
   "version": "1.4.1"
  }
 },
 "nbformat": 4,
 "nbformat_minor": 4
}
