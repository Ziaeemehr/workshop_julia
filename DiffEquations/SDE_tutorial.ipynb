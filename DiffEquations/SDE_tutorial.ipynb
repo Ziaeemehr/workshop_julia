{
 "cells": [
  {
   "cell_type": "markdown",
   "metadata": {},
   "source": [
    "### [Example 1: Scalar SDEs](https://docs.sciml.ai/stable/tutorials/sde_example/#Stochastic-Differential-Equations-1)"
   ]
  },
  {
   "cell_type": "code",
   "execution_count": null,
   "metadata": {},
   "outputs": [],
   "source": [
    "using DifferentialEquations\n",
    "using Plots"
   ]
  },
  {
   "cell_type": "code",
   "execution_count": null,
   "metadata": {},
   "outputs": [],
   "source": [
    "# import Pkg\n",
    "# Pkg.add(\"ORCA\")"
   ]
  },
  {
   "cell_type": "code",
   "execution_count": null,
   "metadata": {},
   "outputs": [],
   "source": [
    "α=1\n",
    "β=1\n",
    "u0=1/2\n",
    "f(u,p,t) = α*u\n",
    "g(u,p,t) = β*u\n",
    "dt = 1//2^(4)\n",
    "tspan = (0.0,1.0)\n",
    "prob = SDEProblem(f,g,u0,(0.0,1.0))"
   ]
  },
  {
   "cell_type": "code",
   "execution_count": null,
   "metadata": {},
   "outputs": [],
   "source": [
    "# classic Euler-Maruyama algorithm EM\n",
    "sol = solve(prob,EM(),dt=dt)\n",
    "plotly() # Using the Plotly backend\n",
    "plot(sol)"
   ]
  },
  {
   "cell_type": "markdown",
   "metadata": {},
   "source": [
    "### Using Higher Order Methods"
   ]
  },
  {
   "cell_type": "code",
   "execution_count": null,
   "metadata": {},
   "outputs": [],
   "source": [
    "f_analytic(u0,p,t,W) = u0 * exp((α - (β^2) / 2) * t + β * W)\n",
    "ff = SDEFunction(f, g, analytic=f_analytic)\n",
    "prob = SDEProblem(ff, g, u0, (0.0,1.0))"
   ]
  },
  {
   "cell_type": "code",
   "execution_count": null,
   "metadata": {},
   "outputs": [],
   "source": [
    "#We can plot using the classic Euler-Maruyama algorithm as follows:\n",
    "sol = solve(prob,EM(),dt=dt)\n",
    "plot(sol,plot_analytic=true)"
   ]
  },
  {
   "cell_type": "code",
   "execution_count": null,
   "metadata": {},
   "outputs": [],
   "source": [
    "# We can choose a higher-order solver for a more accurate result:\n",
    "sol = solve(prob, SRIW1(),dt=dt,adaptive=false)\n",
    "plot(sol,plot_analytic=true)"
   ]
  },
  {
   "cell_type": "markdown",
   "metadata": {},
   "source": [
    "By default, the higher order methods have adaptivity. Thus one can use"
   ]
  },
  {
   "cell_type": "code",
   "execution_count": null,
   "metadata": {},
   "outputs": [],
   "source": [
    "sol = solve(prob,SRIW1())\n",
    "plot(sol,plot_analytic=true)"
   ]
  },
  {
   "cell_type": "markdown",
   "metadata": {},
   "source": [
    "Here we allowed the solver to automatically determine a starting dt. This estimate at the beginning is conservative (small) to ensure accuracy. We can instead start the method with a larger dt by passing in a value for the starting dt:"
   ]
  },
  {
   "cell_type": "code",
   "execution_count": null,
   "metadata": {},
   "outputs": [],
   "source": [
    "sol = solve(prob,SRIW1(),dt=dt)\n",
    "plot(sol,plot_analytic=true)"
   ]
  },
  {
   "cell_type": "markdown",
   "metadata": {},
   "source": [
    "### Ensemble Simulations"
   ]
  },
  {
   "cell_type": "code",
   "execution_count": null,
   "metadata": {},
   "outputs": [],
   "source": [
    "ensembleprob = EnsembleProblem(prob)"
   ]
  },
  {
   "cell_type": "code",
   "execution_count": null,
   "metadata": {},
   "outputs": [],
   "source": [
    "sol = solve(ensembleprob, EnsembleThreads(), trajectories=1000)"
   ]
  },
  {
   "cell_type": "code",
   "execution_count": null,
   "metadata": {},
   "outputs": [],
   "source": [
    "using Base.Threads\n",
    "nthreads()"
   ]
  },
  {
   "cell_type": "code",
   "execution_count": null,
   "metadata": {},
   "outputs": [],
   "source": [
    "using DifferentialEquations.EnsembleAnalysis\n",
    "summ = EnsembleSummary(sol,0:0.01:1)\n",
    "plot(summ,labels=\"Middle 95%\")\n",
    "summ = EnsembleSummary(sol,0:0.01:1;quantiles=[0.25,0.75])\n",
    "plot!(summ,labels=\"Middle 50%\",legend=true)"
   ]
  },
  {
   "cell_type": "markdown",
   "metadata": {},
   "source": [
    "### Example 2: Systems of SDEs with Diagonal Noise"
   ]
  },
  {
   "cell_type": "markdown",
   "metadata": {},
   "source": [
    "For example, the Lorenz equation with additive noise has the same deterministic portion as the Lorenz equations, but adds an additive noise, which is simply `3*N(0,dt)` where `N` is the normal distribution `dt` is the time step, to each step of the equation. This is done via:"
   ]
  },
  {
   "cell_type": "code",
   "execution_count": null,
   "metadata": {},
   "outputs": [],
   "source": [
    "function lorenz(du,u,p,t)\n",
    "  du[1] = 10.0 * (u[2] - u[1])\n",
    "  du[2] = u[1] * (28.0 - u[3]) - u[2]\n",
    "  du[3] = u[1] * u[2] - (8/3) * u[3]\n",
    "end\n",
    "\n",
    "function σ_lorenz(du,u,p,t)\n",
    "  du[1] = 3.0\n",
    "  du[2] = 3.0\n",
    "  du[3] = 3.0\n",
    "end\n",
    "\n",
    "\n",
    "prob_sde_lorenz = SDEProblem(\n",
    "    lorenz,\n",
    "    σ_lorenz,\n",
    "    [1.0,0.0,0.0],\n",
    "    (0.0, 100.0))\n",
    "sol = solve(prob_sde_lorenz)\n",
    "plot(sol,vars=(1,2,3))"
   ]
  },
  {
   "cell_type": "code",
   "execution_count": null,
   "metadata": {},
   "outputs": [],
   "source": [
    "# passing parameters\n",
    "function lorenz(du,u,p,t)\n",
    "  du[1] = p[1] * (u[2] - u[1])\n",
    "  du[2] = u[1] * (p[2] - u[3]) - u[2]\n",
    "  du[3] = u[1] * u[2] - p[3] * u[3]\n",
    "end\n",
    "\n",
    "function σ_lorenz(du,u,p,t)\n",
    "  du[1] = 3.0\n",
    "  du[2] = 3.0\n",
    "  du[3] = 3.0\n",
    "end\n",
    "\n",
    "p = [10.0, 28.0, 8/3]\n",
    "prob_sde_lorenz = SDEProblem(\n",
    "    lorenz,\n",
    "    σ_lorenz,\n",
    "    [1.0,0.0,0.0],\n",
    "    (0.0, 20.0), p)\n",
    "sol = solve(prob_sde_lorenz)\n",
    "plot(sol,vars=(1,2,3))"
   ]
  },
  {
   "cell_type": "markdown",
   "metadata": {},
   "source": [
    "Note that it's okay for the noise function to mix terms. For example"
   ]
  },
  {
   "cell_type": "code",
   "execution_count": null,
   "metadata": {},
   "outputs": [],
   "source": [
    "function lorenz(du,u,p,t)\n",
    "  du[1] = p[1] * (u[2] - u[1])\n",
    "  du[2] = u[1] * (p[2] - u[3]) - u[2]\n",
    "  du[3] = u[1] * u[2] - p[3] * u[3]\n",
    "end\n",
    "\n",
    "function σ_lorenz(du,u,p,t)\n",
    "  du[1] = sin(u[3])*3.0\n",
    "  du[2] = u[2]*u[1]*3.0\n",
    "  du[3] = 3.0\n",
    "end\n",
    "\n",
    "p = [10.0, 28.0, 8/3]\n",
    "prob_sde_lorenz = SDEProblem(\n",
    "    lorenz,\n",
    "    σ_lorenz,\n",
    "    [1.0,0.0,0.0],\n",
    "    (0.0, 20.0), p)\n",
    "sol = solve(prob_sde_lorenz)\n",
    "plot(sol,vars=(1,2,3))"
   ]
  },
  {
   "cell_type": "markdown",
   "metadata": {},
   "source": [
    "### Example 3: Systems of SDEs with Scalar Noise"
   ]
  },
  {
   "cell_type": "code",
   "execution_count": null,
   "metadata": {},
   "outputs": [],
   "source": [
    "f(du,u,p,t) = (du .= u)\n",
    "g(du,u,p,t) = (du .= u)\n",
    "u0 = rand(4, 2)\n",
    "\n",
    "W = WienerProcess(0.0,0.0,0.0)\n",
    "prob = SDEProblem(f,g,u0,(0.0,1.0),noise=W)\n",
    "sol = solve(prob,SRIW1())\n",
    "plot(sol)"
   ]
  },
  {
   "cell_type": "code",
   "execution_count": null,
   "metadata": {},
   "outputs": [],
   "source": []
  }
 ],
 "metadata": {
  "kernelspec": {
   "display_name": "Julia 1.4.1",
   "language": "julia",
   "name": "julia-1.4"
  },
  "language_info": {
   "file_extension": ".jl",
   "mimetype": "application/julia",
   "name": "julia",
   "version": "1.4.1"
  }
 },
 "nbformat": 4,
 "nbformat_minor": 4
}
