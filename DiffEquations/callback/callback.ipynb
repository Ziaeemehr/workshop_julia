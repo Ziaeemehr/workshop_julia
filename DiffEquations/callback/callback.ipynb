{
 "cells": [
  {
   "cell_type": "markdown",
   "metadata": {},
   "source": [
    "### [SavingCallback](https://docs.sciml.ai/latest/features/callback_library/#saving_callback-1)\n"
   ]
  },
  {
   "cell_type": "code",
   "execution_count": 37,
   "metadata": {},
   "outputs": [],
   "source": [
    "using DiffEqCallbacks, OrdinaryDiffEq, LinearAlgebra\n",
    "using BenchmarkTools\n",
    "prob = ODEProblem((du,u,p,t) -> du .= u, rand(4,4), (0.0,5.0))\n",
    "saved_values = SavedValues(Float64, Tuple{Float64,Float64})\n",
    "cb = SavingCallback((u,t,integrator)->(tr(u),norm(u)), saved_values);"
   ]
  },
  {
   "cell_type": "code",
   "execution_count": 61,
   "metadata": {},
   "outputs": [
    {
     "name": "stdout",
     "output_type": "stream",
     "text": [
      "  18.460 μs (59 allocations: 7.09 KiB)\n"
     ]
    },
    {
     "data": {
      "text/plain": [
       "retcode: Success\n",
       "Interpolation: 1st order linear\n",
       "t: 1-element Array{Float64,1}:\n",
       " 5.0\n",
       "u: 1-element Array{Array{Float64,2},1}:\n",
       " [84.20785178198183 28.77124576550865 22.32400859383603 35.592260355259725; 104.83161943574085 75.05553127735907 78.60694870203027 61.394929665343874; 97.68264287457073 62.734995278959865 54.757619882527585 132.0485633555981; 117.82053705893935 26.91840186667744 58.78660350587116 86.06554658282883]"
      ]
     },
     "execution_count": 61,
     "metadata": {},
     "output_type": "execute_result"
    }
   ],
   "source": [
    "@btime sol = solve(prob, \n",
    "    Tsit5(), \n",
    "    callback=cb, \n",
    "#     save_everystep=false,\n",
    "#     dense=false,\n",
    "#     save_start=false,\n",
    "    saveat=[5])"
   ]
  },
  {
   "cell_type": "code",
   "execution_count": 62,
   "metadata": {},
   "outputs": [
    {
     "name": "stdout",
     "output_type": "stream",
     "text": [
      "[(2.022039962892836, 2.0838064497759237), (2.2348228563345884, 2.3030891414599983), (2.864074213139255, 2.9515620005047274), (4.004322614862795, 4.1266411371499245), (6.006719789935074, 6.1902047783250245), (9.767542704453238, 10.065908122252146), (17.07227014881312, 17.593770301907313), (32.02553717147252, 33.00380909385115), (64.04380830295946, 66.00013019475254), (135.81527589037344, 139.96397354756724), (300.0865495246973, 309.2531793960925)]"
     ]
    }
   ],
   "source": [
    "print(saved_values.saveval)"
   ]
  },
  {
   "cell_type": "code",
   "execution_count": 63,
   "metadata": {},
   "outputs": [
    {
     "data": {
      "text/plain": [
       "1-element Array{Float64,1}:\n",
       " 5.0"
      ]
     },
     "execution_count": 63,
     "metadata": {},
     "output_type": "execute_result"
    }
   ],
   "source": [
    "sol.t"
   ]
  },
  {
   "cell_type": "code",
   "execution_count": null,
   "metadata": {},
   "outputs": [],
   "source": []
  },
  {
   "cell_type": "code",
   "execution_count": null,
   "metadata": {},
   "outputs": [],
   "source": []
  }
 ],
 "metadata": {
  "kernelspec": {
   "display_name": "Julia 1.4.1",
   "language": "julia",
   "name": "julia-1.4"
  },
  "language_info": {
   "file_extension": ".jl",
   "mimetype": "application/julia",
   "name": "julia",
   "version": "1.4.1"
  }
 },
 "nbformat": 4,
 "nbformat_minor": 4
}
