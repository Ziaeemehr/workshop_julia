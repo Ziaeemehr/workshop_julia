{
 "cells": [
  {
   "cell_type": "markdown",
   "metadata": {},
   "source": [
    "## Sparse Arrays in julia\n",
    "\n",
    "References:\n",
    "-  [Sparse Arrays](https://docs.julialang.org/en/v1.4/stdlib/SparseArrays/)"
   ]
  },
  {
   "cell_type": "markdown",
   "metadata": {},
   "source": [
    "### Compressed Sparse Column (CSC) Sparse Matrix Storage"
   ]
  },
  {
   "cell_type": "code",
   "execution_count": 1,
   "metadata": {},
   "outputs": [],
   "source": [
    "using SparseArrays\n",
    "using Printf"
   ]
  },
  {
   "cell_type": "code",
   "execution_count": 2,
   "metadata": {},
   "outputs": [
    {
     "data": {
      "text/plain": [
       "3×3 SparseMatrixCSC{Int64,Int64} with 4 stored entries:\n",
       "  [1, 1]  =  0\n",
       "  [2, 2]  =  2\n",
       "  [1, 3]  =  1\n",
       "  [3, 3]  =  0"
      ]
     },
     "execution_count": 2,
     "metadata": {},
     "output_type": "execute_result"
    }
   ],
   "source": [
    "A = sparse([1, 1, 2, 3], [1, 3, 2, 3], [0, 1, 2, 0])"
   ]
  },
  {
   "cell_type": "code",
   "execution_count": 3,
   "metadata": {},
   "outputs": [
    {
     "data": {
      "text/plain": [
       "3×3 SparseMatrixCSC{Int64,Int64} with 2 stored entries:\n",
       "  [2, 2]  =  2\n",
       "  [1, 3]  =  1"
      ]
     },
     "execution_count": 3,
     "metadata": {},
     "output_type": "execute_result"
    }
   ],
   "source": [
    "dropzeros(A)"
   ]
  },
  {
   "cell_type": "markdown",
   "metadata": {},
   "source": [
    "### Sparse Vector and Matrix Constructors"
   ]
  },
  {
   "cell_type": "code",
   "execution_count": 7,
   "metadata": {},
   "outputs": [
    {
     "data": {
      "text/plain": [
       "3-element SparseVector{Float64,Int64} with 0 stored entries"
      ]
     },
     "execution_count": 7,
     "metadata": {},
     "output_type": "execute_result"
    }
   ],
   "source": [
    "spzeros(3)"
   ]
  },
  {
   "cell_type": "code",
   "execution_count": 41,
   "metadata": {},
   "outputs": [
    {
     "data": {
      "text/plain": [
       "3×3 SparseMatrixCSC{Float64,Int64} with 0 stored entries"
      ]
     },
     "execution_count": 41,
     "metadata": {},
     "output_type": "execute_result"
    }
   ],
   "source": [
    "spzeros(3,3)"
   ]
  },
  {
   "cell_type": "code",
   "execution_count": 8,
   "metadata": {},
   "outputs": [],
   "source": [
    " I = [1, 4, 3, 5]; J = [4, 7, 18, 9]; V = [1, 2, -5, 3];"
   ]
  },
  {
   "cell_type": "code",
   "execution_count": 10,
   "metadata": {},
   "outputs": [
    {
     "data": {
      "text/plain": [
       "5×18 SparseMatrixCSC{Int64,Int64} with 4 stored entries:\n",
       "  [1,  4]  =  1\n",
       "  [4,  7]  =  2\n",
       "  [5,  9]  =  3\n",
       "  [3, 18]  =  -5"
      ]
     },
     "execution_count": 10,
     "metadata": {},
     "output_type": "execute_result"
    }
   ],
   "source": [
    "# sparse(I,J,V) then constructs a sparse matrix such that \n",
    "# S[I[k], J[k]] = V[k]\n",
    "S = sparse(I,J,V)"
   ]
  },
  {
   "cell_type": "code",
   "execution_count": 55,
   "metadata": {},
   "outputs": [
    {
     "data": {
      "text/plain": [
       "([1, 4, 5, 3], [4, 7, 9, 18], [1, 2, 3, -5])"
      ]
     },
     "execution_count": 55,
     "metadata": {},
     "output_type": "execute_result"
    }
   ],
   "source": [
    "# The inverse of the sparse and sparsevec functions \n",
    "# is findnz, which retrieves the inputs used to \n",
    "# create the sparse array\n",
    "B = findnz(S)"
   ]
  },
  {
   "cell_type": "code",
   "execution_count": 59,
   "metadata": {},
   "outputs": [
    {
     "name": "stdout",
     "output_type": "stream",
     "text": [
      "Tuple{Array{Int64,1},Array{Int64,1},Array{Int64,1}}\n",
      "[1, 4, 5, 3]\n",
      "[4, 7, 9, 18]\n",
      "[1, 2, 3, -5]\n"
     ]
    }
   ],
   "source": [
    "println(typeof(B))\n",
    "println(B[1])\n",
    "println(B[2])\n",
    "println(B[3])"
   ]
  },
  {
   "cell_type": "code",
   "execution_count": 12,
   "metadata": {},
   "outputs": [
    {
     "data": {
      "text/plain": [
       "4-element Array{CartesianIndex{2},1}:\n",
       " CartesianIndex(1, 4)\n",
       " CartesianIndex(4, 7)\n",
       " CartesianIndex(5, 9)\n",
       " CartesianIndex(3, 18)"
      ]
     },
     "execution_count": 12,
     "metadata": {},
     "output_type": "execute_result"
    }
   ],
   "source": [
    "findall(!iszero, S)"
   ]
  },
  {
   "cell_type": "markdown",
   "metadata": {},
   "source": [
    "Another way to create a sparse array is to convert a dense array into a sparse array using the sparse function:"
   ]
  },
  {
   "cell_type": "code",
   "execution_count": 88,
   "metadata": {},
   "outputs": [
    {
     "data": {
      "text/plain": [
       "4×6 Array{Int64,2}:\n",
       " 1  0  1  0  1  0\n",
       " 0  0  0  0  0  0\n",
       " 1  0  1  0  1  0\n",
       " 0  0  0  0  0  0"
      ]
     },
     "execution_count": 88,
     "metadata": {},
     "output_type": "execute_result"
    }
   ],
   "source": [
    "A = [1 0; 0 0]\n",
    "B = repeat(A, 2, 3)"
   ]
  },
  {
   "cell_type": "markdown",
   "metadata": {},
   "source": [
    "#### To Sparse and To dense view:"
   ]
  },
  {
   "cell_type": "code",
   "execution_count": 95,
   "metadata": {},
   "outputs": [
    {
     "name": "stdout",
     "output_type": "stream",
     "text": [
      "S = \n",
      "  [1, 1]  =  1\n",
      "  [3, 1]  =  1\n",
      "  [1, 3]  =  1\n",
      "  [3, 3]  =  1\n",
      "  [1, 5]  =  1\n",
      "  [3, 5]  =  1\n"
     ]
    },
    {
     "data": {
      "text/plain": [
       "4×6 Array{Int64,2}:\n",
       " 1  0  1  0  1  0\n",
       " 0  0  0  0  0  0\n",
       " 1  0  1  0  1  0\n",
       " 0  0  0  0  0  0"
      ]
     },
     "execution_count": 95,
     "metadata": {},
     "output_type": "execute_result"
    }
   ],
   "source": [
    "S = sparse(B)\n",
    "@show S\n",
    "Array(S)"
   ]
  },
  {
   "cell_type": "code",
   "execution_count": 22,
   "metadata": {},
   "outputs": [
    {
     "data": {
      "text/plain": [
       "3-element SparseVector{Float64,Int64} with 2 stored entries:\n",
       "  [1]  =  1.0\n",
       "  [3]  =  1.0"
      ]
     },
     "execution_count": 22,
     "metadata": {},
     "output_type": "execute_result"
    }
   ],
   "source": [
    "sparse([1.0, 0.0, 1.0])"
   ]
  },
  {
   "cell_type": "markdown",
   "metadata": {},
   "source": [
    "The issparse function can be used to query if a matrix is sparse."
   ]
  },
  {
   "cell_type": "code",
   "execution_count": 23,
   "metadata": {},
   "outputs": [
    {
     "data": {
      "text/plain": [
       "true"
      ]
     },
     "execution_count": 23,
     "metadata": {},
     "output_type": "execute_result"
    }
   ],
   "source": [
    "issparse(spzeros(5))"
   ]
  },
  {
   "cell_type": "markdown",
   "metadata": {},
   "source": [
    "Indexing operations, especially assignment, are expensive, when carried out one element at a time. In many cases it may be better to convert the sparse matrix into `(I,J,V)` format using `findnz`, manipulate the values or the structure in the dense vectors `(I,J,V)`, and then reconstruct the sparse matrix."
   ]
  },
  {
   "cell_type": "code",
   "execution_count": 39,
   "metadata": {},
   "outputs": [
    {
     "data": {
      "text/plain": [
       "3×3 SparseMatrixCSC{Float64,Int64} with 3 stored entries:\n",
       "  [2, 1]  =  0.405025\n",
       "  [2, 3]  =  0.93208\n",
       "  [3, 3]  =  0.33711"
      ]
     },
     "execution_count": 39,
     "metadata": {},
     "output_type": "execute_result"
    }
   ],
   "source": [
    "# Creates a m-by-n random matrix (of density d)\n",
    "sprand(3, 3, 0.3) "
   ]
  },
  {
   "cell_type": "code",
   "execution_count": 44,
   "metadata": {},
   "outputs": [
    {
     "data": {
      "text/plain": [
       "3×4 SparseMatrixCSC{Bool,Int64} with 4 stored entries:\n",
       "  [2, 1]  =  1\n",
       "  [3, 1]  =  1\n",
       "  [3, 2]  =  1\n",
       "  [1, 4]  =  1"
      ]
     },
     "execution_count": 44,
     "metadata": {},
     "output_type": "execute_result"
    }
   ],
   "source": [
    "sprand(Bool, 3, 4, 0.5)"
   ]
  },
  {
   "cell_type": "code",
   "execution_count": 46,
   "metadata": {},
   "outputs": [
    {
     "data": {
      "text/plain": [
       "5-element SparseVector{Float64,Int64} with 3 stored entries:\n",
       "  [1]  =  0.185637\n",
       "  [2]  =  0.786457\n",
       "  [4]  =  0.555272"
      ]
     },
     "execution_count": 46,
     "metadata": {},
     "output_type": "execute_result"
    }
   ],
   "source": [
    "sprand(Float64, 5, 0.5)"
   ]
  },
  {
   "cell_type": "code",
   "execution_count": 47,
   "metadata": {},
   "outputs": [
    {
     "data": {
      "text/plain": [
       "2×2 SparseMatrixCSC{Float64,Int64} with 3 stored entries:\n",
       "  [1, 1]  =  -0.508226\n",
       "  [2, 1]  =  2.19075\n",
       "  [2, 2]  =  0.348588"
      ]
     },
     "execution_count": 47,
     "metadata": {},
     "output_type": "execute_result"
    }
   ],
   "source": [
    "sprandn(2, 2, 0.75)"
   ]
  },
  {
   "cell_type": "code",
   "execution_count": 48,
   "metadata": {},
   "outputs": [
    {
     "data": {
      "text/plain": [
       "2-element Array{Int64,1}:\n",
       " 1\n",
       " 1"
      ]
     },
     "execution_count": 48,
     "metadata": {},
     "output_type": "execute_result"
    }
   ],
   "source": [
    "A = sparse([1, 0, 1])\n",
    "nonzeros(A)"
   ]
  },
  {
   "cell_type": "markdown",
   "metadata": {},
   "source": [
    "[nzrange](https://docs.julialang.org/en/v1.4/stdlib/SparseArrays/#SparseArrays.nzrange)"
   ]
  },
  {
   "cell_type": "code",
   "execution_count": 54,
   "metadata": {},
   "outputs": [
    {
     "name": "stdout",
     "output_type": "stream",
     "text": [
      "A = \n",
      "  [1,  4]  =  1\n",
      "  [4,  7]  =  2\n",
      "  [5,  9]  =  3\n",
      "  [3, 18]  =  -5\n"
     ]
    }
   ],
   "source": [
    "I = [1, 4, 3, 5]; J = [4, 7, 18, 9]; V = [1, 2, -5, 3];\n",
    "A = sparse(I,J,V)\n",
    "rows = rowvals(A)\n",
    "vals = nonzeros(A)\n",
    "m, n = size(A)\n",
    "@show A;\n",
    "for j = 1:n\n",
    "   for i in nzrange(A, j)\n",
    "      row = rows[i]\n",
    "      val = vals[i]\n",
    "      # perform sparse wizardry...\n",
    "   end\n",
    "end"
   ]
  },
  {
   "cell_type": "code",
   "execution_count": 4,
   "metadata": {},
   "outputs": [
    {
     "name": "stdout",
     "output_type": "stream",
     "text": [
      "(5, 18)\n",
      "nonzeros : [1, 2, 3, -5]\n",
      "rowvals : [1, 4, 5, 3]\n",
      "row, col :5 18\n",
      "row =   1, col =   4, val =   1 \n",
      "row =   4, col =   7, val =   2 \n",
      "row =   5, col =   9, val =   3 \n",
      "row =   3, col =  18, val =  -5 \n",
      "Array{Int64,2}\n"
     ]
    },
    {
     "data": {
      "text/plain": [
       "5×18 Array{Int64,2}:\n",
       " 0  0  0  1  0  0  0  0  0  0  0  0  0  0  0  0  0   0\n",
       " 0  0  0  0  0  0  0  0  0  0  0  0  0  0  0  0  0   0\n",
       " 0  0  0  0  0  0  0  0  0  0  0  0  0  0  0  0  0  -5\n",
       " 0  0  0  0  0  0  2  0  0  0  0  0  0  0  0  0  0   0\n",
       " 0  0  0  0  0  0  0  0  3  0  0  0  0  0  0  0  0   0"
      ]
     },
     "execution_count": 4,
     "metadata": {},
     "output_type": "execute_result"
    }
   ],
   "source": [
    "I = [1, 4, 3, 5]; J = [4, 7, 18, 9]; V = [1, 2, -5, 3];\n",
    "A = sparse(I,J,V)\n",
    "println(size(A))\n",
    "println(\"nonzeros : \", nonzeros(A))\n",
    "println(\"rowvals : \", rowvals(A))\n",
    "\n",
    "rows = rowvals(A)\n",
    "vals = nonzeros(A)\n",
    "\n",
    "row, col = size(A)\n",
    "println(\"row, col :\", row, \" \", col)\n",
    "for j = 1: col\n",
    "    for i in nzrange(A, j)\n",
    "        @printf(\"row = %3d, col = %3d, val = %3d \\n\", rows[i], j, vals[i])\n",
    "    end\n",
    "end\n",
    "\n",
    "println(typeof(Array(A)))\n",
    "Array(A)"
   ]
  },
  {
   "cell_type": "code",
   "execution_count": 7,
   "metadata": {},
   "outputs": [
    {
     "name": "stdout",
     "output_type": "stream",
     "text": [
      "nonzeros : [1, 2, 3, -5]\n",
      "rowvals : [1, 4, 5, 3]\n",
      "col =   1, \n",
      "col =   2, \n",
      "col =   3, \n",
      "col =   4, i =   1, row =   1\n",
      "col =   5, \n",
      "col =   6, \n",
      "col =   7, i =   2, row =   4\n",
      "col =   8, \n",
      "col =   9, i =   3, row =   5\n",
      "col =  10, \n",
      "col =  11, \n",
      "col =  12, \n",
      "col =  13, \n",
      "col =  14, \n",
      "col =  15, \n",
      "col =  16, \n",
      "col =  17, \n",
      "col =  18, i =   4, row =   3\n"
     ]
    }
   ],
   "source": [
    "I = [1, 4, 3, 5]; J = [4, 7, 18, 9]; V = [1, 2, -5, 3];\n",
    "A = sparse(I,J,V)\n",
    "println(\"nonzeros : \", nonzeros(A))\n",
    "println(\"rowvals : \", rowvals(A))\n",
    "rows = rowvals(A)\n",
    "vals = nonzeros(A)\n",
    "row, col = size(A)\n",
    "for j = 1: col\n",
    "    @printf(\"col = %3d, \", j)\n",
    "    for i in nzrange(A, j)\n",
    "        @printf(\"i = %3d, row = %3d\", i, rows[i])\n",
    "    end\n",
    "    @printf(\"\\n\")\n",
    "end"
   ]
  },
  {
   "cell_type": "code",
   "execution_count": 9,
   "metadata": {},
   "outputs": [
    {
     "name": "stdout",
     "output_type": "stream",
     "text": [
      "row =   1, col =   4, val =   1 \n",
      "row =   4, col =   7, val =   2 \n",
      "row =   3, col =  18, val =  -5 \n",
      "row =   5, col =   9, val =   3 \n"
     ]
    }
   ],
   "source": [
    "I = [1, 4, 3, 5]; J = [4, 7, 18, 9]; V = [1, 2, -5, 3];\n",
    "A = sparse(I,J,V)\n",
    "\n",
    "for i = 1:length(I)\n",
    "    @printf(\"row = %3d, col = %3d, val = %3d \\n\", I[i], J[i], V[i])\n",
    "end"
   ]
  },
  {
   "cell_type": "code",
   "execution_count": null,
   "metadata": {},
   "outputs": [],
   "source": []
  }
 ],
 "metadata": {
  "kernelspec": {
   "display_name": "Julia 1.4.1",
   "language": "julia",
   "name": "julia-1.4"
  },
  "language_info": {
   "file_extension": ".jl",
   "mimetype": "application/julia",
   "name": "julia",
   "version": "1.4.1"
  }
 },
 "nbformat": 4,
 "nbformat_minor": 4
}
