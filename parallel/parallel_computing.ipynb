{
 "cells": [
  {
   "cell_type": "markdown",
   "metadata": {},
   "source": [
    "### Parallel commputing in Julia\n",
    "#### References\n",
    "-  [A brief introduction to parallel computing in Julia](https://codingclubuc3m.github.io/2018-06-06-Parallel-computing-Julia.htmlhttps://codingclubuc3m.github.io/2018-06-06-Parallel-computing-Julia.html)\n",
    "-  [Parallel Computing](https://docs.julialang.org/en/v1.4/manual/parallel-computing/)"
   ]
  },
  {
   "cell_type": "code",
   "execution_count": 1,
   "metadata": {},
   "outputs": [],
   "source": [
    "using Distributed\n",
    "using Base.Threads"
   ]
  },
  {
   "cell_type": "code",
   "execution_count": 2,
   "metadata": {},
   "outputs": [
    {
     "data": {
      "text/plain": [
       "2-element Vector{Int64}:\n",
       " 2\n",
       " 3"
      ]
     },
     "metadata": {},
     "output_type": "display_data"
    }
   ],
   "source": [
    "addprocs(2)"
   ]
  },
  {
   "cell_type": "code",
   "execution_count": 3,
   "metadata": {},
   "outputs": [
    {
     "data": {
      "text/plain": [
       "Task (runnable) @0x00007f27f163bb20"
      ]
     },
     "metadata": {},
     "output_type": "display_data"
    }
   ],
   "source": [
    "@distributed for N in 1:10\n",
    "    println(\"The N of this iteration in $N\")\n",
    "end"
   ]
  },
  {
   "cell_type": "code",
   "execution_count": 4,
   "metadata": {},
   "outputs": [],
   "source": [
    "# for i in workers()\n",
    "#     t = rmprocs(i, waitfor=0)\n",
    "#     wait(t)\n",
    "    \n",
    "# addprocs(4)"
   ]
  },
  {
   "cell_type": "code",
   "execution_count": 5,
   "metadata": {},
   "outputs": [
    {
     "data": {
      "text/plain": [
       "2-element Vector{Int64}:\n",
       " 2\n",
       " 3"
      ]
     },
     "metadata": {},
     "output_type": "display_data"
    }
   ],
   "source": [
    "workers()"
   ]
  },
  {
   "cell_type": "code",
   "execution_count": 6,
   "metadata": {},
   "outputs": [],
   "source": [
    "# interrupt()"
   ]
  },
  {
   "cell_type": "code",
   "execution_count": 7,
   "metadata": {},
   "outputs": [
    {
     "data": {
      "text/plain": [
       "2-element Vector{Int64}:\n",
       " 2\n",
       " 3"
      ]
     },
     "metadata": {},
     "output_type": "display_data"
    }
   ],
   "source": [
    "workers()"
   ]
  },
  {
   "cell_type": "code",
   "execution_count": 8,
   "metadata": {},
   "outputs": [
    {
     "name": "stdout",
     "output_type": "stream",
     "text": [
      "      From worker 2:\tThe N of this iteration in 1\n"
     ]
    },
    {
     "name": "stdout",
     "output_type": "stream",
     "text": [
      "      From worker 3:\tThe N of this iteration in 6\n"
     ]
    },
    {
     "name": "stdout",
     "output_type": "stream",
     "text": [
      "      From worker 3:\tThe N of this iteration in 7\n",
      "      From worker 3:\tThe N of this iteration in 8\n"
     ]
    },
    {
     "name": "stdout",
     "output_type": "stream",
     "text": [
      "      From worker 3:\tThe N of this iteration in 9\n",
      "      From worker 3:\tThe N of this iteration in 10\n",
      "my id = 1\n",
      "      From worker 2:\tThe N of this iteration in 2\n"
     ]
    },
    {
     "name": "stdout",
     "output_type": "stream",
     "text": [
      "      From worker 2:\tThe N of this iteration in 3\n",
      "      From worker 2:\tThe N of this iteration in 4\n",
      "      From worker 2:\tThe N of this iteration in 5\n"
     ]
    }
   ],
   "source": [
    "@everywhere function showid()\n",
    "    println(\"my id = \", myid())    \n",
    "end\n",
    "\n",
    "showid()"
   ]
  },
  {
   "cell_type": "code",
   "execution_count": 9,
   "metadata": {},
   "outputs": [
    {
     "name": "stdout",
     "output_type": "stream",
     "text": [
      "my id = 1\n",
      "      From worker 3:\tmy id = 3\n"
     ]
    },
    {
     "name": "stdout",
     "output_type": "stream",
     "text": [
      "      From worker 2:\tmy id = 2\n"
     ]
    }
   ],
   "source": [
    "@everywhere showid()"
   ]
  },
  {
   "cell_type": "code",
   "execution_count": 10,
   "metadata": {},
   "outputs": [
    {
     "name": "stdout",
     "output_type": "stream",
     "text": [
      "The number of this iteration is 4\n",
      "The number of this iteration is 1\n",
      "The number of this iteration is 2\n",
      "The number of this iteration is 3\n",
      "The number of this iteration is 7\n",
      "The number of this iteration is 5\n",
      "The number of this iteration is 6\n",
      "The number of this iteration is 9\n",
      "The number of this iteration is 10\n",
      "The number of this iteration is 8\n"
     ]
    }
   ],
   "source": [
    "Threads.@threads for N in 1:10\n",
    "    println(\"The number of this iteration is $N\")\n",
    "end"
   ]
  },
  {
   "cell_type": "code",
   "execution_count": 11,
   "metadata": {},
   "outputs": [],
   "source": [
    "# using Base.Threads"
   ]
  },
  {
   "cell_type": "code",
   "execution_count": 12,
   "metadata": {},
   "outputs": [
    {
     "data": {
      "text/plain": [
       "4"
      ]
     },
     "metadata": {},
     "output_type": "display_data"
    }
   ],
   "source": [
    "nthreads()"
   ]
  },
  {
   "cell_type": "code",
   "execution_count": 13,
   "metadata": {},
   "outputs": [],
   "source": [
    "a = zeros(Int64, 10);"
   ]
  },
  {
   "cell_type": "code",
   "execution_count": 14,
   "metadata": {},
   "outputs": [],
   "source": [
    "@threads for i = 1:10\n",
    "   a[i] = threadid()\n",
    "end"
   ]
  },
  {
   "cell_type": "code",
   "execution_count": 15,
   "metadata": {},
   "outputs": [
    {
     "data": {
      "text/plain": [
       "10-element Vector{Int64}:\n",
       " 1\n",
       " 1\n",
       " 1\n",
       " 2\n",
       " 2\n",
       " 2\n",
       " 3\n",
       " 3\n",
       " 4\n",
       " 4"
      ]
     },
     "metadata": {},
     "output_type": "display_data"
    }
   ],
   "source": [
    "a"
   ]
  },
  {
   "cell_type": "markdown",
   "metadata": {},
   "source": [
    "### Atomic Operations\n",
    "Julia supports accessing and modifying values atomically, that is, in a thread-safe way to avoid race conditions. A value (which must be of a primitive type) can be wrapped as Threads.Atomic to indicate it must be accessed in this way. Here we can see an example:"
   ]
  },
  {
   "cell_type": "code",
   "execution_count": 16,
   "metadata": {},
   "outputs": [
    {
     "data": {
      "text/plain": [
       "Atomic{Int64}(0)"
      ]
     },
     "metadata": {},
     "output_type": "display_data"
    }
   ],
   "source": [
    "i = Atomic{Int}(0)"
   ]
  },
  {
   "cell_type": "code",
   "execution_count": 17,
   "metadata": {},
   "outputs": [],
   "source": [
    "ids = zeros(4);\n",
    "old_is = zeros(4);"
   ]
  },
  {
   "cell_type": "code",
   "execution_count": 18,
   "metadata": {},
   "outputs": [],
   "source": [
    "@threads for id in 1:4\n",
    "    old_is[id] = atomic_add!(i, id)\n",
    "    ids[id] = id\n",
    "end"
   ]
  },
  {
   "cell_type": "code",
   "execution_count": 19,
   "metadata": {},
   "outputs": [
    {
     "name": "stdout",
     "output_type": "stream",
     "text": [
      "[0.0, 1.0, 3.0, 6.0]\n",
      "[1.0, 2.0, 3.0, 4.0]\n"
     ]
    }
   ],
   "source": [
    "println(old_is)\n",
    "println(ids)"
   ]
  },
  {
   "cell_type": "markdown",
   "metadata": {},
   "source": [
    "### Side effects and mutable function arguments"
   ]
  },
  {
   "cell_type": "code",
   "execution_count": 20,
   "metadata": {},
   "outputs": [
    {
     "data": {
      "text/plain": [
       "f (generic function with 1 method)"
      ]
     },
     "metadata": {},
     "output_type": "display_data"
    }
   ],
   "source": [
    "function f()\n",
    "    s = repeat([\"123\", \"213\", \"231\"], outer=1000)\n",
    "    x = similar(s, Int)\n",
    "    rx = r\"1\"\n",
    "    @threads for i in 1:3000\n",
    "        x[i] = findfirst(rx, s[i]).start\n",
    "    end\n",
    "    count(v -> v == 1, x)\n",
    "end"
   ]
  },
  {
   "cell_type": "code",
   "execution_count": 21,
   "metadata": {},
   "outputs": [
    {
     "data": {
      "text/plain": [
       "1000"
      ]
     },
     "metadata": {},
     "output_type": "display_data"
    }
   ],
   "source": [
    "f()"
   ]
  },
  {
   "cell_type": "code",
   "execution_count": 22,
   "metadata": {},
   "outputs": [
    {
     "data": {
      "text/plain": [
       "Task (runnable) @0x00007f27f3539a50"
      ]
     },
     "metadata": {},
     "output_type": "display_data"
    }
   ],
   "source": [
    "a = zeros(100000)\n",
    "@distributed for i = 1:100000\n",
    "    a[i] = i\n",
    "end"
   ]
  },
  {
   "cell_type": "markdown",
   "metadata": {},
   "source": [
    "Filling an array"
   ]
  },
  {
   "cell_type": "code",
   "execution_count": 23,
   "metadata": {},
   "outputs": [
    {
     "name": "stdout",
     "output_type": "stream",
     "text": [
      "  2.538598 seconds (40.00 M allocations: 763.095 MiB, 11.01% gc time, 0.68% compilation time)\n"
     ]
    },
    {
     "name": "stdout",
     "output_type": "stream",
     "text": [
      "  0.206157 seconds (20.02 M allocations: 306.517 MiB, 16.00% gc time, 1.63% compilation time)\n"
     ]
    }
   ],
   "source": [
    "nthreads()\n",
    "\n",
    "n = Int64(1e7)\n",
    "a = zeros(n);\n",
    "@time for i in 1:n\n",
    "    a[i] = log10(i)\n",
    "end\n",
    "\n",
    "using Base.Threads\n",
    "@time @threads for i in 1:n\n",
    "    a[i] = log10(i)\n",
    "end\n"
   ]
  },
  {
   "cell_type": "markdown",
   "metadata": {},
   "source": [
    "[Parallel Julia webinar](https://www.youtube.com/watch?v=2SafLn0xJKY)"
   ]
  },
  {
   "cell_type": "code",
   "execution_count": 24,
   "metadata": {},
   "outputs": [
    {
     "name": "stdout",
     "output_type": "stream",
     "text": [
      "  0.019355 seconds (19.10 k allocations: 1.152 MiB, 98.70% compilation time)\n",
      "Total = 9000000000\n"
     ]
    }
   ],
   "source": [
    "# is not thread safe\n",
    "total = 0\n",
    "@time @threads for i in Int(9e9)\n",
    "    global total += i\n",
    "end \n",
    "\n",
    "println(\"Total = \", total)"
   ]
  },
  {
   "cell_type": "code",
   "execution_count": 25,
   "metadata": {},
   "outputs": [
    {
     "name": "stdout",
     "output_type": "stream",
     "text": [
      "  0.020082 seconds (18.44 k allocations: 1.105 MiB, 98.93% compilation time)\n",
      "Total = 9000000000\n"
     ]
    }
   ],
   "source": [
    "# is thread safe, slower\n",
    "\n",
    "total = Atomic{Int64}(0)\n",
    "@time @threads for i in Int(9e9)\n",
    "    atomic_add!(total, i)\n",
    "end\n",
    "println(\"Total = \", total[])"
   ]
  },
  {
   "cell_type": "code",
   "execution_count": 26,
   "metadata": {},
   "outputs": [
    {
     "data": {
      "text/plain": [
       "quick (generic function with 1 method)"
      ]
     },
     "metadata": {},
     "output_type": "display_data"
    }
   ],
   "source": [
    "function quick(n)\n",
    "    total = Atomic{Int64}(0)\n",
    "    @time @threads for i in 1:n\n",
    "        atomic_add!(total, i)\n",
    "    end\n",
    "    return (total)\n",
    "end"
   ]
  },
  {
   "cell_type": "code",
   "execution_count": 27,
   "metadata": {},
   "outputs": [
    {
     "name": "stdout",
     "output_type": "stream",
     "text": [
      "  0.022274 seconds (16.80 k allocations: 992.424 KiB, 99.36% compilation time)\n"
     ]
    },
    {
     "data": {
      "text/plain": [
       "Atomic{Int64}(55)"
      ]
     },
     "metadata": {},
     "output_type": "display_data"
    }
   ],
   "source": [
    "quick(10)"
   ]
  },
  {
   "cell_type": "code",
   "execution_count": 28,
   "metadata": {},
   "outputs": [],
   "source": [
    "quick(Int(1e8))"
   ]
  },
  {
   "cell_type": "code",
   "execution_count": null,
   "metadata": {},
   "outputs": [],
   "source": []
  }
 ],
 "metadata": {
  "kernelspec": {
   "display_name": "Julia 1.6.7",
   "language": "julia",
   "name": "julia-1.6"
  },
  "language_info": {
   "file_extension": ".jl",
   "mimetype": "application/julia",
   "name": "julia",
   "version": "1.6.7"
  }
 },
 "nbformat": 4,
 "nbformat_minor": 4
}
