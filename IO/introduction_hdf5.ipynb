{
 "cells": [
  {
   "cell_type": "markdown",
   "metadata": {},
   "source": [
    "## HDF5 interface for the Julia language\n",
    "### [Quickstart](https://github.com/JuliaIO/HDF5.jl)\n",
    "@scientific_programming"
   ]
  },
  {
   "cell_type": "code",
   "execution_count": 1,
   "metadata": {},
   "outputs": [],
   "source": [
    "using HDF5"
   ]
  },
  {
   "cell_type": "code",
   "execution_count": 12,
   "metadata": {},
   "outputs": [
    {
     "data": {
      "text/plain": [
       "5×3 Array{Int64,2}:\n",
       " 32  47  62\n",
       " 34  49  64\n",
       " 36  51  66\n",
       " 38  53  68\n",
       " 40  55  70"
      ]
     },
     "execution_count": 12,
     "metadata": {},
     "output_type": "execute_result"
    }
   ],
   "source": [
    "rm(\"data/test1.h5\", force=true)  # remove existing file\n",
    "A = collect(reshape(1:120, 15, 8))\n",
    "B = collect(reshape(121:240, 15,8))\n",
    "h5write(\"data/test1.h5\", \"mygroup/A\", A)\n",
    "# data = h5read(\"data/test1.h5\", \"mygroup/A\")              # read data\n",
    "data = h5read(\"data/test1.h5\", \"mygroup/A\", (2:2:10, 3:5)) #read slices of data"
   ]
  },
  {
   "cell_type": "markdown",
   "metadata": {},
   "source": [
    "More fine-grained control can be obtained using functional syntax:"
   ]
  },
  {
   "cell_type": "code",
   "execution_count": 16,
   "metadata": {},
   "outputs": [
    {
     "name": "stdout",
     "output_type": "stream",
     "text": [
      "(15, 8)\n"
     ]
    }
   ],
   "source": [
    "rm(\"data/mydata.h5\", force=true)\n",
    "h5open(\"data/mydata.h5\", \"w\") do file\n",
    "    write(file, \"A\", A)\n",
    "    write(file, \"B\", B)\n",
    "end\n",
    "\n",
    "c = h5open(\"data/mydata.h5\") do file\n",
    "    A = read(file, \"A\");\n",
    "    B = read(file, \"B\");\n",
    "end\n",
    "println(size(B))"
   ]
  },
  {
   "cell_type": "markdown",
   "metadata": {},
   "source": [
    "Julia's high-level wrapper, providing a dictionary-like interface, may also be of interest:"
   ]
  },
  {
   "cell_type": "code",
   "execution_count": 6,
   "metadata": {},
   "outputs": [
    {
     "data": {
      "text/plain": [
       "\"This group contains only a signle dataset\""
      ]
     },
     "execution_count": 6,
     "metadata": {},
     "output_type": "execute_result"
    }
   ],
   "source": [
    "rm(\"data/test.h5\", force=true)\n",
    "h5open(\"data/test.h5\", \"w\") do file\n",
    "    g = g_create(file, \"mygroup\") # create a group\n",
    "    g[\"dset1\"] = 3.2\n",
    "    attrs(g)[\"Description\"] = \"This group contains only a signle dataset\" # an attribute\n",
    "end"
   ]
  },
  {
   "cell_type": "markdown",
   "metadata": {},
   "source": [
    "Convenience functions for attributes attached to datasets are also provided:"
   ]
  },
  {
   "cell_type": "code",
   "execution_count": 8,
   "metadata": {},
   "outputs": [
    {
     "data": {
      "text/plain": [
       "Dict{String,String} with 2 entries:\n",
       "  \"c\" => \"value for metadata parameter c\"\n",
       "  \"d\" => \"metadata d\""
      ]
     },
     "execution_count": 8,
     "metadata": {},
     "output_type": "execute_result"
    }
   ],
   "source": [
    "rm(\"data/bar.h5\", force=true)\n",
    "A = Vector{Int}(1:10)\n",
    "h5write(\"data/bar.h5\", \"foo\", A)\n",
    "h5writeattr(\"data/bar.h5\", \"foo\", \n",
    "    Dict(\"c\"=>\"value for metadata parameter c\",\n",
    "        \"d\"=>\"metadata d\"))\n",
    "h5readattr(\"data/bar.h5\", \"foo\")"
   ]
  },
  {
   "cell_type": "code",
   "execution_count": null,
   "metadata": {},
   "outputs": [],
   "source": []
  }
 ],
 "metadata": {
  "kernelspec": {
   "display_name": "Julia 1.4.1",
   "language": "julia",
   "name": "julia-1.4"
  },
  "language_info": {
   "file_extension": ".jl",
   "mimetype": "application/julia",
   "name": "julia",
   "version": "1.4.1"
  }
 },
 "nbformat": 4,
 "nbformat_minor": 4
}
